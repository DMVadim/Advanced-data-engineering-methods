{
 "cells": [
  {
   "cell_type": "code",
   "execution_count": 2,
   "id": "69678955-1344-4fb2-a4cc-e61312624a2e",
   "metadata": {},
   "outputs": [],
   "source": [
    "import csv\n",
    "from collections import Counter"
   ]
  },
  {
   "cell_type": "code",
   "execution_count": 3,
   "id": "df7c988f-b3f9-40dc-9f73-a24b686c3795",
   "metadata": {},
   "outputs": [],
   "source": [
    "# Открываем файл и читаем его\n",
    "with open('movies.csv', newline='', encoding='utf-8') as csvfile:\n",
    "    reader = csv.reader(csvfile)\n",
    "    next(reader)  # Пропускаем заголовок\n",
    "    words = []\n",
    "\n",
    "    # Проходим по каждой строке в файле\n",
    "    for row in reader:\n",
    "        title = row[1]  # Название фильма во втором столбце\n",
    "        # Разбиваем название на слова и добавляем их в список\n",
    "        words.extend(title.split())"
   ]
  },
  {
   "cell_type": "code",
   "execution_count": 4,
   "id": "c91b89f5-7b83-4706-a1c8-a526fed05042",
   "metadata": {},
   "outputs": [],
   "source": [
    "# Подсчитываем частоту слов\n",
    "word_counts = Counter(words)"
   ]
  },
  {
   "cell_type": "code",
   "execution_count": 5,
   "id": "cab8826d-e59f-4e62-a43b-0cbd0937db50",
   "metadata": {},
   "outputs": [],
   "source": [
    "# Находим самое частое слово\n",
    "most_common_word, most_common_count = word_counts.most_common(1)[0]"
   ]
  },
  {
   "cell_type": "code",
   "execution_count": 6,
   "id": "4b8649ae-c178-4251-b20b-6981120813ed",
   "metadata": {},
   "outputs": [
    {
     "name": "stdout",
     "output_type": "stream",
     "text": [
      "Самое частое слово: \"Comedy\" встречается 41 раз(а).\n"
     ]
    }
   ],
   "source": [
    "print(f'Самое частое слово: \"{most_common_word}\" встречается {most_common_count} раз(а).')"
   ]
  },
  {
   "cell_type": "code",
   "execution_count": null,
   "id": "b5a24328-88c0-4705-898a-5dcd601108ef",
   "metadata": {},
   "outputs": [],
   "source": []
  }
 ],
 "metadata": {
  "kernelspec": {
   "display_name": "Python 3 (ipykernel)",
   "language": "python",
   "name": "python3"
  },
  "language_info": {
   "codemirror_mode": {
    "name": "ipython",
    "version": 3
   },
   "file_extension": ".py",
   "mimetype": "text/x-python",
   "name": "python",
   "nbconvert_exporter": "python",
   "pygments_lexer": "ipython3",
   "version": "3.8.12"
  }
 },
 "nbformat": 4,
 "nbformat_minor": 5
}
